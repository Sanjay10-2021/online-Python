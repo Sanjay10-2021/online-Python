{
 "cells": [
  {
   "cell_type": "code",
   "execution_count": 1,
   "id": "0ea7bac2",
   "metadata": {},
   "outputs": [
    {
     "name": "stdout",
     "output_type": "stream",
     "text": [
      "\n",
      "Twinkle, twinkle, little star,\n",
      "        How I wonder what you are!\n",
      "                Up above the world so high,\n",
      "                Like a diamond in the sky.\n",
      "Twinkle, twinkle, little star,\n",
      "        How I wonder what you are\n",
      "        \n"
     ]
    }
   ],
   "source": [
    "\n",
    "# 1. Write a Python program to print the following string in a specific format (see the output).\n",
    "\n",
    "# Twinkle, twinkle, little star,\n",
    "#         How I wonder what you are!\n",
    "#                 Up above the world so high,\n",
    "#                 Like a diamond in the sky.\n",
    "# Twinkle, twinkle, little star,\n",
    "#         How I wonder what you are\n",
    "\n",
    "\n",
    "print(\"\"\"\n",
    "Twinkle, twinkle, little star,\n",
    "        How I wonder what you are!\n",
    "                Up above the world so high,\n",
    "                Like a diamond in the sky.\n",
    "Twinkle, twinkle, little star,\n",
    "        How I wonder what you are\n",
    "        \"\"\");"
   ]
  },
  {
   "cell_type": "code",
   "execution_count": 2,
   "id": "7a9d9425",
   "metadata": {},
   "outputs": [
    {
     "name": "stdout",
     "output_type": "stream",
     "text": [
      "Python 3.8.12\n"
     ]
    }
   ],
   "source": [
    "#2. Write a Python program to get the Python version you are using\n",
    "\n",
    "!python --version"
   ]
  },
  {
   "cell_type": "code",
   "execution_count": 3,
   "id": "8623dea9",
   "metadata": {},
   "outputs": [
    {
     "name": "stdout",
     "output_type": "stream",
     "text": [
      "Date : 2021-10-23\n",
      "Time : 19:41:00 PM\n"
     ]
    }
   ],
   "source": [
    "# 3. Write a Python program to display the current date and time.\n",
    "\n",
    "import datetime as dt;\n",
    "now = dt.datetime.now();\n",
    "\n",
    "print(\"Date :\",now.date());\n",
    "nowTime = now.strftime(\"%H:%M:%S %p\"); \n",
    "print(\"Time : \"+nowTime);\n",
    "\n"
   ]
  },
  {
   "cell_type": "code",
   "execution_count": 4,
   "id": "70d96133",
   "metadata": {},
   "outputs": [
    {
     "name": "stdout",
     "output_type": "stream",
     "text": [
      "Enter radius of circle: 5\n",
      "Circle Area = 78.57142857142857\n"
     ]
    }
   ],
   "source": [
    "# 4. Write a Python program which accepts the radius of a circle from the user and compute the area.\n",
    "\n",
    "radius = int(input(\"Enter radius of circle: \"));\n",
    "pi = 22/7;\n",
    "area = pi * (radius**2);\n",
    "\n",
    "print(\"Circle Area =\",area);\n"
   ]
  },
  {
   "cell_type": "code",
   "execution_count": 5,
   "id": "4921566b",
   "metadata": {},
   "outputs": [
    {
     "name": "stdout",
     "output_type": "stream",
     "text": [
      "Enter your first name: SANJAY\n",
      "Enter your last name: KUMAR\n",
      "Reverse => RAMUK YAJNAS\n"
     ]
    }
   ],
   "source": [
    "# 5. Write a Python program which accepts the user's first and last name \n",
    "# and print them in reverse order with a space between them.\n",
    "\n",
    "firstName = input(\"Enter your first name: \");\n",
    "lastName = input(\"Enter your last name: \");\n",
    "\n",
    "reverseLN = '';\n",
    "\n",
    "for ln in lastName:\n",
    "    reverseLN = ln + reverseLN\n",
    "\n",
    "reverseFN = '';\n",
    "for fn in firstName:\n",
    "    reverseFN = fn + reverseFN\n",
    "    \n",
    "#Print in reverse order. =>  last name then First name. \n",
    "\n",
    "print(\"Reverse => \"+reverseLN+\" \"+reverseFN);"
   ]
  },
  {
   "cell_type": "code",
   "execution_count": 6,
   "id": "9b370351",
   "metadata": {},
   "outputs": [
    {
     "name": "stdout",
     "output_type": "stream",
     "text": [
      "Enter number1 Marks: 15\n",
      "Enter number2 Marks: 35\n",
      "15 + 35 = 50\n"
     ]
    }
   ],
   "source": [
    "# 6. Write a python program which takes two inputs from user and print them addition\n",
    "\n",
    "\n",
    "num1 = int(input(\"Enter number1 Marks: \"));\n",
    "\n",
    "num2 = int(input(\"Enter number2 Marks: \"));\n",
    "\n",
    "add = num1+num2;\n",
    "print(num1,\"+\",num2,\"=\",add); "
   ]
  },
  {
   "cell_type": "code",
   "execution_count": 7,
   "id": "4aae7ce1",
   "metadata": {},
   "outputs": [
    {
     "name": "stdout",
     "output_type": "stream",
     "text": [
      "Enter English Marks: 90\n",
      "Enter Physics Marks: 80\n",
      "Enter Computer Marks: 70\n",
      "Enter Pakistan-Studies Marks: 50\n",
      "Enter Chemistry Marks: 30\n",
      "\n",
      "Marks obtain: 320 / 500\n",
      "Average Percentage:  64.0\n",
      "Grade: B\n"
     ]
    }
   ],
   "source": [
    "# 7. Write a program which takes 5 inputs from user for different subject’s marks,\n",
    "# total it and generate mark sheet using grades ?\n",
    "\n",
    "\n",
    "eng = int(input(\"Enter English Marks: \"));\n",
    "\n",
    "phy = int(input(\"Enter Physics Marks: \"));\n",
    "\n",
    "com = int(input(\"Enter Computer Marks: \"));\n",
    "\n",
    "pk = int(input(\"Enter Pakistan-Studies Marks: \"));\n",
    "\n",
    "chm = int(input(\"Enter Chemistry Marks: \"));\n",
    "\n",
    "totalMarks = 500;\n",
    "\n",
    "obtMarks = eng+phy+com+pk+chm;\n",
    "\n",
    "print(\"\\nMarks obtain:\",obtMarks ,\"/\",totalMarks);\n",
    "\n",
    "percent = (obtMarks * 100)/totalMarks;\n",
    "\n",
    "print(\"Average Percentage: \",percent);\n",
    "\n",
    "\n",
    "if percent <= 100 and percent >= 80:\n",
    "    print(\"Grade: A+\");\n",
    "elif percent < 80 and percent >= 70:\n",
    "    print(\"Grade: A\");\n",
    "elif percent < 70 and percent >= 60:\n",
    "    print(\"Grade: B\");\n",
    "elif percent < 60 and percent >= 50:\n",
    "    print(\"Grade: C\");\n",
    "elif percent < 50 and percent >= 40:\n",
    "    print(\"Grade: D\");\n",
    "elif percent < 40 and percent >= 33:\n",
    "    print(\"Grade: E\");\n",
    "elif percent < 33 and percent > 0:\n",
    "    print(\"Fail\");\n",
    "else:\n",
    "    print(\"Something went wrong !!!!\")\n",
    "\n"
   ]
  },
  {
   "cell_type": "code",
   "execution_count": 8,
   "id": "8116d444",
   "metadata": {},
   "outputs": [
    {
     "name": "stdout",
     "output_type": "stream",
     "text": [
      "Enter number: 200000058615\n",
      "It's Odd\n"
     ]
    }
   ],
   "source": [
    "# 8. Write a program which take input from user and identify that the given number is even\n",
    "# or odd?\n",
    "\n",
    "\n",
    "num = int(input(\"Enter number: \"));\n",
    "\n",
    "if num % 2 == 0:\n",
    "    print(\"It's Even\");\n",
    "else:\n",
    "    print(\"It's Odd\");\n"
   ]
  },
  {
   "cell_type": "code",
   "execution_count": 9,
   "id": "a967d3f7",
   "metadata": {},
   "outputs": [
    {
     "name": "stdout",
     "output_type": "stream",
     "text": [
      "11\n"
     ]
    }
   ],
   "source": [
    "# 9. Write a program which print the length of the list?\n",
    "\n",
    "a = [1, 1, 2, 3, 5, 8, 13, 21, 34, 55, 89];\n",
    "\n",
    "result = 0;\n",
    "for num in a:\n",
    "    result += 1;\n",
    "    \n",
    "print(result);"
   ]
  },
  {
   "cell_type": "code",
   "execution_count": 10,
   "id": "d3cc260f",
   "metadata": {},
   "outputs": [
    {
     "name": "stdout",
     "output_type": "stream",
     "text": [
      "232\n"
     ]
    }
   ],
   "source": [
    "# 10.Write a Python program to sum all the numeric items in a list?\n",
    "\n",
    "a = [1, 1, 2, 3, 5, 8, 13, 21, 34, 55, 89];\n",
    "\n",
    "result = 0;\n",
    "\n",
    "for num in a:\n",
    "    result += num;\n",
    "    \n",
    "print(result);"
   ]
  },
  {
   "cell_type": "code",
   "execution_count": 11,
   "id": "f0ac8aad",
   "metadata": {},
   "outputs": [
    {
     "name": "stdout",
     "output_type": "stream",
     "text": [
      "100\n"
     ]
    }
   ],
   "source": [
    "# 11.Write a Python program to get the largest number from a numeric list.\n",
    "\n",
    "a = [1, 1, 2, 3, 5, 8, 100, 21, 34, 55, 89];\n",
    "\n",
    "maximum = a[0];\n",
    "\n",
    "for num in a:\n",
    "    if maximum < num:\n",
    "        maximum = num;\n",
    "\n",
    "print(maximum);"
   ]
  },
  {
   "cell_type": "code",
   "execution_count": 12,
   "id": "ed892b85",
   "metadata": {},
   "outputs": [
    {
     "name": "stdout",
     "output_type": "stream",
     "text": [
      "1\n",
      "1\n",
      "2\n",
      "3\n"
     ]
    }
   ],
   "source": [
    "# 12. Take a list, say for example this one:\n",
    "# a = [1, 1, 2, 3, 5, 8, 13, 21, 34, 55, 89]\n",
    "# Write a program that prints out all the elements of the list that are less than 5.\n",
    "\n",
    "\n",
    "a = [1, 1, 2, 3, 5, 8, 13, 21, 34, 55, 89];\n",
    "for num in a:\n",
    "    if num < 5:\n",
    "        print(num);\n"
   ]
  }
 ],
 "metadata": {
  "kernelspec": {
   "display_name": "Python 3 (ipykernel)",
   "language": "python",
   "name": "python3"
  },
  "language_info": {
   "codemirror_mode": {
    "name": "ipython",
    "version": 3
   },
   "file_extension": ".py",
   "mimetype": "text/x-python",
   "name": "python",
   "nbconvert_exporter": "python",
   "pygments_lexer": "ipython3",
   "version": "3.8.12"
  }
 },
 "nbformat": 4,
 "nbformat_minor": 5
}
