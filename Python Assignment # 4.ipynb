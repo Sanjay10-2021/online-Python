{
 "cells": [
  {
   "cell_type": "code",
   "execution_count": 1,
   "id": "f7df069d",
   "metadata": {},
   "outputs": [
    {
     "name": "stdout",
     "output_type": "stream",
     "text": [
      "Enter first value: 8\n",
      "Enter second value: 3\n",
      "\n",
      "'+'  => Addition\n",
      "'-'  => Subtration\n",
      "'/'  => Division\n",
      "'*'  => Multiplication\n",
      "'**' => Power\n",
      "\n",
      "Enter key for perform operation: **\n",
      "512\n"
     ]
    }
   ],
   "source": [
    "# Make a calculator using Python with addition, subtraction, multiplication, division and power.\n",
    "    \n",
    "val1 = int(input(\"Enter first value: \"));\n",
    "val2 = int(input(\"Enter second value: \"));\n",
    "res = 0;    \n",
    "\n",
    "print(\"\"\"\n",
    "'+'  => Addition\n",
    "'-'  => Subtration\n",
    "'/'  => Division\n",
    "'*'  => Multiplication\n",
    "'**' => Power\n",
    "\"\"\");    \n",
    "\n",
    "opr = input(\"Enter key for perform operation: \");\n",
    "\n",
    "if opr == '+':\n",
    "    res = val1+val2;\n",
    "elif opr == '-':\n",
    "    res = val1-val2;\n",
    "elif opr == '/':\n",
    "    res = val1/val2;\n",
    "elif opr == '*':\n",
    "    res = val1*val2;\n",
    "elif opr == '**':\n",
    "    res = val1**val2;\n",
    "else:\n",
    "    print(\"Invalid key entered!!!! \\nTry again\\n\");\n",
    "            \n",
    "print(res);"
   ]
  },
  {
   "cell_type": "code",
   "execution_count": 2,
   "id": "7dc24ec4",
   "metadata": {},
   "outputs": [
    {
     "name": "stdout",
     "output_type": "stream",
     "text": [
      "1\n",
      "4.5\n",
      "numeric value found\n"
     ]
    }
   ],
   "source": [
    "# Write a program to check if there is any numeric value in list using for \n",
    "# loop.\n",
    "\n",
    "l1 = [\"H\",\"e\",\"l\",1,4.5,\" \",\"a\",\"l\",\"l\"];\n",
    "intFound = False;\n",
    "\n",
    "for i in l1:\n",
    "    if type(i) == int or type(i) == float:\n",
    "        intFound = True\n",
    "        print(i);\n",
    "        \n",
    "if intFound == True:\n",
    "    print(\"numeric value found\")\n",
    "else :\n",
    "    print(\"numeric value not found\")\n",
    "    "
   ]
  },
  {
   "cell_type": "code",
   "execution_count": 3,
   "id": "d142121a",
   "metadata": {},
   "outputs": [
    {
     "name": "stdout",
     "output_type": "stream",
     "text": [
      "Enter key:ghj\n",
      "Enter numeric value: 753\n"
     ]
    },
    {
     "data": {
      "text/plain": [
       "{'a': 1, 'bc': 12, 'def': 123, 'ghj': 753}"
      ]
     },
     "execution_count": 3,
     "metadata": {},
     "output_type": "execute_result"
    }
   ],
   "source": [
    "# Write a Python script to add a key to a dictionary.\n",
    "\n",
    "d1={\"a\":1,\"bc\":12,\"def\":123};\n",
    "\n",
    "dKey = input(\"Enter key:\")\n",
    "dValue =  int(input(\"Enter numeric value: \"));\n",
    "              \n",
    "d1[dKey] = dValue\n",
    "\n",
    "d1"
   ]
  },
  {
   "cell_type": "code",
   "execution_count": null,
   "id": "cb1e22fd",
   "metadata": {},
   "outputs": [],
   "source": []
  },
  {
   "cell_type": "code",
   "execution_count": null,
   "id": "f4bb0ac7",
   "metadata": {},
   "outputs": [],
   "source": []
  },
  {
   "cell_type": "code",
   "execution_count": 4,
   "id": "0a143a4c",
   "metadata": {},
   "outputs": [
    {
     "name": "stdout",
     "output_type": "stream",
     "text": [
      "sum all the numeric items(keys + values) =>  274.0\n"
     ]
    }
   ],
   "source": [
    "#  Write a Python program to sum all the numeric items in a dictionary.\n",
    "\n",
    "d1={\"a\":1,\"bc\":12,\"def\":123,\"ghij\":1,\"abcd\":12,100:'xyz',\"jkl\":25.0};\n",
    "\n",
    "plus=0;\n",
    "\n",
    "for key,value in d1.items():\n",
    "    \n",
    "    if type(key) == int or type(key) == float:\n",
    "        plus += key;\n",
    "    if type(value) == int or type(value) == float:\n",
    "        plus += value;\n",
    "    \n",
    "    \n",
    "print('sum all the numeric items(keys + values) => ',plus);\n",
    "\n"
   ]
  },
  {
   "cell_type": "code",
   "execution_count": null,
   "id": "7083b399",
   "metadata": {},
   "outputs": [],
   "source": []
  },
  {
   "cell_type": "code",
   "execution_count": 5,
   "id": "9d0968a0",
   "metadata": {},
   "outputs": [
    {
     "name": "stdout",
     "output_type": "stream",
     "text": [
      "1 => 1\n",
      "2 => 2\n",
      "4 => 4\n",
      "5 => 5\n",
      "3 => 3\n",
      "9 => 9\n",
      "7 => 7\n",
      "6 => 6\n"
     ]
    },
    {
     "data": {
      "text/plain": [
       "[1, 2, 4, 5, 3, 9, 7, 6]"
      ]
     },
     "execution_count": 5,
     "metadata": {},
     "output_type": "execute_result"
    }
   ],
   "source": [
    "# Write a program to identify duplicate values from list.\n",
    "\n",
    "a = [1,2,1,4,5,3,2,1,5,9,9,7,1,4,6];\n",
    "\n",
    "same = [];\n",
    "\n",
    "for i in range(len(a)):\n",
    "    found = False;    \n",
    "    if len(same) > 0:\n",
    "        for val in same:\n",
    "            if a[i] == val:\n",
    "                found = True;\n",
    "                break;\n",
    "\n",
    "    if found == False:\n",
    "        for j in range(len(a)):\n",
    "            if a[i] == a[j]:\n",
    "                same.append(a[i]);\n",
    "                print(a[i],\"=>\",a[j]);\n",
    "                break;\n",
    "\n",
    "                \n",
    "same     "
   ]
  },
  {
   "cell_type": "code",
   "execution_count": 6,
   "id": "51da9310",
   "metadata": {},
   "outputs": [
    {
     "name": "stdout",
     "output_type": "stream",
     "text": [
      "Enter Key: bc\n",
      "key already exists\n"
     ]
    }
   ],
   "source": [
    "# Write a Python script to check if a given key already exists in a dictionary\n",
    "\n",
    "\n",
    "dic={\"a\":1,\"bc\":12,\"def\":123};\n",
    "\n",
    "myKey = input(\"Enter Key: \");\n",
    "found = False;\n",
    "\n",
    "for k in dic:\n",
    "    if k==myKey:\n",
    "        found = True;\n",
    "        break;\n",
    "\n",
    "if found == True:\n",
    "    print(\"key already exists\");\n",
    "else:\n",
    "    print(\"key not exists\");\n",
    "\n",
    "\n",
    "\n",
    "    \n",
    "    "
   ]
  }
 ],
 "metadata": {
  "kernelspec": {
   "display_name": "Python 3 (ipykernel)",
   "language": "python",
   "name": "python3"
  },
  "language_info": {
   "codemirror_mode": {
    "name": "ipython",
    "version": 3
   },
   "file_extension": ".py",
   "mimetype": "text/x-python",
   "name": "python",
   "nbconvert_exporter": "python",
   "pygments_lexer": "ipython3",
   "version": "3.8.12"
  }
 },
 "nbformat": 4,
 "nbformat_minor": 5
}
